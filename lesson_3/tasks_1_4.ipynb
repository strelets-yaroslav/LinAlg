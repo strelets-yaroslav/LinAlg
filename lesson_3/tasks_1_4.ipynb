{
 "cells": [
  {
   "cell_type": "markdown",
   "metadata": {},
   "source": [
    "__1.__ Найти собственные векторы и собственные значения для линейного оператора, заданного матрицей\n",
    "\n",
    "$$A=\\begin{pmatrix}\n",
    "-1 & -6\\\\ \n",
    "2 & 6\n",
    "\\end{pmatrix}.$$"
   ]
  },
  {
   "cell_type": "markdown",
   "metadata": {},
   "source": [
    "**Решение.**\n",
    "\n",
    "Составляем и решаем характеристическое уравнение для поиска собственных значений:\n",
    "\n",
    "$$\\begin{vmatrix}\n",
    "-1 - \\lambda & -6\\\\ \n",
    "2 & 6 - \\lambda\n",
    "\\end{vmatrix} = 0,$$\n",
    "\n",
    "$$(-1 - \\lambda)(6 - \\lambda) - (-6)\\cdot2 = 0,$$\n",
    "\n",
    "$$\\lambda^{2} + \\lambda - 6\\lambda - 6 + 12 = 0,$$\n",
    "\n",
    "$$\\lambda^{2} - 5\\lambda + 6 = 0,$$\n",
    "\n",
    "$$(\\lambda - 2)(\\lambda - 3) = 0,$$\n",
    "\n",
    "$$\\lambda_{1} = 2,\\,\\lambda_{2} = 3.$$"
   ]
  },
  {
   "cell_type": "markdown",
   "metadata": {},
   "source": [
    "Находим собственные векторы вида $\\begin{pmatrix}\n",
    "x_{1}\\\\ \n",
    "x_{2}\n",
    "\\end{pmatrix}$ для каждого собственного значения, решив выражение $\\textbf{A}x=\\lambda x$:\n",
    "\n",
    "$$\\begin{pmatrix}\n",
    "-1 & -6\\\\ \n",
    "2 & 6\n",
    "\\end{pmatrix}\n",
    "\\begin{pmatrix}\n",
    "x_{1}\\\\ \n",
    "x_{2}\n",
    "\\end{pmatrix}=\n",
    "\\lambda_{1}\n",
    "\\begin{pmatrix}\n",
    "x_{1}\\\\ \n",
    "x_{2}\n",
    "\\end{pmatrix},\\,\\,\\begin{pmatrix}\n",
    "-1 & -6\\\\ \n",
    "2 & 6\n",
    "\\end{pmatrix}\n",
    "\\begin{pmatrix}\n",
    "x_{1}\\\\ \n",
    "x_{2}\n",
    "\\end{pmatrix}=\n",
    "\\lambda_{2}\n",
    "\\begin{pmatrix}\n",
    "x_{1}\\\\ \n",
    "x_{2}\n",
    "\\end{pmatrix}.\n",
    "$$"
   ]
  },
  {
   "cell_type": "markdown",
   "metadata": {},
   "source": [
    "Получаем\n",
    "\n",
    "$$\\begin{cases}\n",
    "-x_{1} - 6\\cdot x_{2}= 2\\cdot x_{1}, \\\\\n",
    "2\\cdot x_{1} + 6\\cdot x_{2}= 2\\cdot x_{2}.\n",
    "\\end{cases},\\,\\,\\, \\begin{cases}\n",
    "-x_{1} - 6\\cdot x_{2}= 3\\cdot x_{1}, \\\\\n",
    "2\\cdot x_{1} + 6\\cdot x_{2}= 3\\cdot x_{2}.\n",
    "\\end{cases}$$ \n",
    "\n",
    "Перенеся всё в левую часть, получим:\n",
    "\n",
    "$$\\begin{cases}\n",
    "-3\\cdot x_{1} - 6\\cdot x_{2}= 0, \\\\\n",
    "2\\cdot x_{1} + 4\\cdot x_{2}= 0.\n",
    "\\end{cases},\\,\\,\\, \\begin{cases}\n",
    "-4\\cdot x_{1} - 6\\cdot x_{2}= 0, \\\\\n",
    "2\\cdot x_{1} + 3\\cdot x_{2}= 0.\n",
    "\\end{cases}$$ \n",
    "\n",
    "Видно, что для $\\lambda_{1}: x_{1} = -2\\cdot x_{2}$, а для $\\lambda_{2}: x_{1} = -\\frac{3}{2}\\cdot x_{2}$. Следовательно, можно взять любые два вектора, координаты которых отвечают этим условиям, а затем нормировать каждый. Найдём нормы для векторов, используя отношения между координатами и взяв $x_{2} > 0$ (для упрощения вычислений):\n",
    "\n",
    "$$\\sqrt{x_{1}^{2} + x_{2}^{2}} = \\sqrt{(-2\\cdot x_{2})^{2} + x_{2}^{2}} = \\sqrt{5}\\cdot x_{2}$$\n",
    "\n",
    "$$\\sqrt{x_{1}^{2} + x_{2}^{2}} = \\sqrt{(-\\frac{3}{2}\\cdot x_{2})^{2} + x_{2}^{2}} = \\frac{\\sqrt{13}}{2}\\cdot x_{2}$$\n",
    "\n",
    "И получаем собственные вектора, нормируя координаты:\n",
    "\n",
    "для $\\lambda_{1} = 2$\n",
    "$$\\begin{pmatrix}\n",
    "\\frac{x_{1}}{\\sqrt{5}\\cdot x_{2}}\\\\ \n",
    "\\frac{x_{2}}{\\sqrt{5}\\cdot x_{2}}\n",
    "\\end{pmatrix} = \\begin{pmatrix}\n",
    "\\frac{-2\\cdot x_{2}}{\\sqrt{5}\\cdot x_{2}}\\\\ \n",
    "\\frac{\\sqrt{5}}{5}\n",
    "\\end{pmatrix} = \\begin{pmatrix}\n",
    "\\frac{-2\\sqrt{5}}{5}\\\\ \n",
    "\\frac{\\sqrt{5}}{5}\n",
    "\\end{pmatrix}$$\n",
    "\n",
    "для $\\lambda_{2} = 3$\n",
    "$$\\begin{pmatrix}\n",
    "\\frac{x_{1}}{\\frac{\\sqrt{13}}{2}}\\\\ \n",
    "\\frac{x_{2}}{\\frac{\\sqrt{13}}{2}}\n",
    "\\end{pmatrix} = \\begin{pmatrix}\n",
    "\\frac{-\\frac{3}{2}\\cdot x_{2}}{\\frac{\\sqrt{13}}{2}}\\\\ \n",
    "\\frac{2\\sqrt{13}}{13}\n",
    "\\end{pmatrix} = \\begin{pmatrix}\n",
    "\\frac{-3\\sqrt{13}}{13}\\\\ \n",
    "\\frac{2\\sqrt{13}}{13}\n",
    "\\end{pmatrix}$$"
   ]
  },
  {
   "cell_type": "code",
   "execution_count": 1,
   "metadata": {},
   "outputs": [],
   "source": [
    "import numpy as np"
   ]
  },
  {
   "cell_type": "code",
   "execution_count": 2,
   "metadata": {},
   "outputs": [],
   "source": [
    "np.set_printoptions(precision=6, suppress=True)"
   ]
  },
  {
   "cell_type": "code",
   "execution_count": 3,
   "metadata": {},
   "outputs": [
    {
     "name": "stdout",
     "output_type": "stream",
     "text": [
      "Собственные значения:\n",
      "[2. 3.]\n",
      "Собственные векторы:\n",
      "[[-0.894427  0.83205 ]\n",
      " [ 0.447214 -0.5547  ]]\n"
     ]
    }
   ],
   "source": [
    "a = np.array([[-1, -6], [2, 6]])\n",
    "w, v = np.linalg.eig(a)\n",
    "print(f'Собственные значения:\\n{w}')\n",
    "print(f'Собственные векторы:\\n{v}')"
   ]
  },
  {
   "cell_type": "code",
   "execution_count": 4,
   "metadata": {},
   "outputs": [
    {
     "data": {
      "text/plain": [
       "array([-0.894427,  0.447214])"
      ]
     },
     "execution_count": 4,
     "metadata": {},
     "output_type": "execute_result"
    }
   ],
   "source": [
    "x_1 = np.array([-2, 1])\n",
    "x_1 = x_1 / np.linalg.norm(x_1)\n",
    "x_1"
   ]
  },
  {
   "cell_type": "code",
   "execution_count": 5,
   "metadata": {},
   "outputs": [
    {
     "data": {
      "text/plain": [
       "array([ 0.83205, -0.5547 ])"
      ]
     },
     "execution_count": 5,
     "metadata": {},
     "output_type": "execute_result"
    }
   ],
   "source": [
    "x_2 = np.array([3, -2])\n",
    "x_2 = x_2 / np.linalg.norm(x_2)\n",
    "x_2"
   ]
  },
  {
   "cell_type": "code",
   "execution_count": 6,
   "metadata": {},
   "outputs": [
    {
     "data": {
      "text/plain": [
       "(-0.894427190999916, 0.447213595499958)"
      ]
     },
     "execution_count": 6,
     "metadata": {},
     "output_type": "execute_result"
    }
   ],
   "source": [
    "(-2*np.sqrt(5)/5, np.sqrt(5)/5)"
   ]
  },
  {
   "cell_type": "code",
   "execution_count": 7,
   "metadata": {},
   "outputs": [
    {
     "data": {
      "text/plain": [
       "(-0.8320502943378436, 0.5547001962252291)"
      ]
     },
     "execution_count": 7,
     "metadata": {},
     "output_type": "execute_result"
    }
   ],
   "source": [
    "(-3*np.sqrt(13)/13, 2*np.sqrt(13)/13)"
   ]
  },
  {
   "cell_type": "markdown",
   "metadata": {},
   "source": [
    "__2.__ Дан оператор поворота на 180 градусов, задаваемый матрицей \n",
    "\n",
    "$$A=\\begin{pmatrix}\n",
    "-1 & 0\\\\ \n",
    "0 & -1\n",
    "\\end{pmatrix}.$$\n",
    "\n",
    "Показать, что __любой__ вектор является для него собственным."
   ]
  },
  {
   "cell_type": "markdown",
   "metadata": {},
   "source": [
    "**Решение.**\n",
    "\n",
    "Запишем выражение $\\textbf{A}x=\\lambda x$ в общем виде:\n",
    "\n",
    "$$\\begin{pmatrix}\n",
    "-1 & 0\\\\ \n",
    "0 & -1\n",
    "\\end{pmatrix}\n",
    "\\begin{pmatrix}\n",
    "x_{1}\\\\ \n",
    "x_{2}\n",
    "\\end{pmatrix}=\n",
    "\\lambda\n",
    "\\begin{pmatrix}\n",
    "x_{1}\\\\ \n",
    "x_{2}\n",
    "\\end{pmatrix}$$\n",
    "\n",
    "И решим его:\n",
    "$$\\begin{cases}\n",
    "-x_{1} + 0\\cdot x_{2} = \\lambda\\cdot x_{1}, \\\\\n",
    "0\\cdot x_{1} - x_{2} = \\lambda\\cdot x_{2}.\n",
    "\\end{cases}$$\n",
    "\n",
    "Получаем явное решение системы:\n",
    "$$\\begin{cases}\n",
    "\\lambda = -1, \\\\\n",
    "\\lambda = -1.\n",
    "\\end{cases}$$\n",
    "\n",
    "Следовательно, для данной матрицы собственным вектором может быть любой, а собственные числа = -1."
   ]
  },
  {
   "cell_type": "code",
   "execution_count": 8,
   "metadata": {},
   "outputs": [
    {
     "name": "stdout",
     "output_type": "stream",
     "text": [
      "Собственные значения:\n",
      "[-1. -1.]\n",
      "Собственные векторы:\n",
      "[[1. 0.]\n",
      " [0. 1.]]\n"
     ]
    }
   ],
   "source": [
    "b = np.array([[-1, 0], [0, -1]])\n",
    "w, v = np.linalg.eig(b)\n",
    "print(f'Собственные значения:\\n{w}')\n",
    "print(f'Собственные векторы:\\n{v}')"
   ]
  },
  {
   "cell_type": "markdown",
   "metadata": {},
   "source": [
    "__3.__ Пусть линейный оператор задан матрицей\n",
    "\n",
    "$$A=\\begin{pmatrix}\n",
    "1 & 1\\\\ \n",
    "-1 & 3\n",
    "\\end{pmatrix}.$$\n",
    "\n",
    "Установить, является ли вектор $x=(1,1)$ собственным вектором этого линейного оператора."
   ]
  },
  {
   "cell_type": "markdown",
   "metadata": {},
   "source": [
    "**Решение.**\n",
    "\n",
    "Запишем выражение $\\textbf{A}x=\\lambda x$:\n",
    "\n",
    "$$\\begin{pmatrix}\n",
    "1 & 1\\\\ \n",
    "-1 & 3\n",
    "\\end{pmatrix}\n",
    "\\begin{pmatrix}\n",
    "1\\\\ \n",
    "1\n",
    "\\end{pmatrix}=\n",
    "\\lambda\n",
    "\\begin{pmatrix}\n",
    "1\\\\ \n",
    "1\n",
    "\\end{pmatrix}$$\n",
    "\n",
    "Решим его:\n",
    "$$\\begin{cases}\n",
    "1\\cdot1 + 1\\cdot1 = \\lambda\\cdot1, \\\\\n",
    "-1\\cdot1 + 3\\cdot1 = \\lambda\\cdot1.\n",
    "\\end{cases}$$\n",
    "\n",
    "Получаем явное решение системы:\n",
    "$$\\begin{cases}\n",
    "\\lambda = 2, \\\\\n",
    "\\lambda = 2.\n",
    "\\end{cases}$$\n",
    "\n",
    "Следовательно, вектор $x=(1,1)$ является собственным для данной матрицы, собственные числа которой = 2."
   ]
  },
  {
   "cell_type": "code",
   "execution_count": 9,
   "metadata": {},
   "outputs": [
    {
     "name": "stdout",
     "output_type": "stream",
     "text": [
      "Собственные значения:\n",
      "[2. 2.]\n",
      "Собственные векторы:\n",
      "[[ 0.707107 -0.707107]\n",
      " [ 0.707107 -0.707107]]\n"
     ]
    }
   ],
   "source": [
    "c = np.array([[1, 1], [-1, 3]])\n",
    "w, v = np.linalg.eig(c)\n",
    "print(f'Собственные значения:\\n{w}')\n",
    "print(f'Собственные векторы:\\n{v}')"
   ]
  },
  {
   "cell_type": "markdown",
   "metadata": {},
   "source": [
    "**4.** Пусть линейный оператор задан матрицей\n",
    "\n",
    "$$A=\\begin{pmatrix} 0 & 3 & 0\\\\ 3 & 0 & 0\\\\ 0 & 0 & 3 \\end{pmatrix}.$$\n",
    "\n",
    "Установить, является ли вектор $x=(3, -3, -4)$ собственным вектором этого линейного оператора."
   ]
  },
  {
   "cell_type": "markdown",
   "metadata": {},
   "source": [
    "**Решение.**\n",
    "\n",
    "Запишем выражение $\\textbf{A}x=\\lambda x$:\n",
    "\n",
    "$$\\begin{pmatrix} 0 & 3 & 0\\\\ 3 & 0 & 0\\\\ 0 & 0 & 3 \\end{pmatrix}\n",
    "\\begin{pmatrix}\n",
    "3\\\\ \n",
    "-3\\\\\n",
    "-4\n",
    "\\end{pmatrix}=\n",
    "\\lambda\n",
    "\\begin{pmatrix}\n",
    "3\\\\ \n",
    "-3\\\\\n",
    "-4\n",
    "\\end{pmatrix}$$\n",
    "\n",
    "Решим его:\n",
    "$$\\begin{cases}\n",
    "0\\cdot3 + 3\\cdot(-3) + 0\\cdot(-4) = \\lambda\\cdot3, \\\\\n",
    "3\\cdot3 + 0\\cdot(-3) + 0\\cdot(-4) = \\lambda\\cdot(-3), \\\\\n",
    "0\\cdot3 + 0\\cdot(-3) + 3\\cdot(-4) = \\lambda\\cdot(-4).\n",
    "\\end{cases}$$\n",
    "\n",
    "Получаем:\n",
    "$$\\begin{cases}\n",
    "3\\lambda = -9, \\\\\n",
    "-3\\lambda = 9, \\\\\n",
    "-4\\lambda = -12.\n",
    "\\end{cases}$$\n",
    "\n",
    "Данная система не имеет смысла (нет единственного значения для $\\lambda$), следовательно, вектор $x=(3, -3, -4)$ **не** является собственным для данной матрицы (*собственным вектором мог бы быть $x = (3, 3, -4)$ при $\\lambda = 3$*)."
   ]
  },
  {
   "cell_type": "code",
   "execution_count": 10,
   "metadata": {},
   "outputs": [
    {
     "name": "stdout",
     "output_type": "stream",
     "text": [
      "Собственные значения:\n",
      "[ 3. -3.  3.]\n",
      "Собственные векторы:\n",
      "[[ 0.707107 -0.707107  0.      ]\n",
      " [ 0.707107  0.707107  0.      ]\n",
      " [ 0.        0.        1.      ]]\n"
     ]
    }
   ],
   "source": [
    "d = np.array([[0, 3, 0], [3, 0, 0], [0, 0, 3]])\n",
    "w, v = np.linalg.eig(d)\n",
    "print(f'Собственные значения:\\n{w}')\n",
    "print(f'Собственные векторы:\\n{v}')"
   ]
  }
 ],
 "metadata": {
  "kernelspec": {
   "display_name": "Python 3",
   "language": "python",
   "name": "python3"
  },
  "language_info": {
   "codemirror_mode": {
    "name": "ipython",
    "version": 3
   },
   "file_extension": ".py",
   "mimetype": "text/x-python",
   "name": "python",
   "nbconvert_exporter": "python",
   "pygments_lexer": "ipython3",
   "version": "3.7.3"
  }
 },
 "nbformat": 4,
 "nbformat_minor": 2
}
