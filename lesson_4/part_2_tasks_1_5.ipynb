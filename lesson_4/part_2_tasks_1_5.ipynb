{
 "cells": [
  {
   "cell_type": "markdown",
   "metadata": {},
   "source": [
    "__1.__ Решить систему уравнений методом Крамера:\n",
    "\n",
    "   а) $\\begin{cases}\n",
    "x_{1}-2x_{2}=1 \\\\\n",
    "3x_{1}-4x_{2}=7\n",
    "\\end{cases}$\n",
    "    \n",
    "   б) $\\begin{cases}\n",
    "2x_{1}-x_{2}+5x_{3}=10 \\\\\n",
    "x_{1}+x_{2}-3x_{3}=-2 \\\\\n",
    "2x_{1}+4x_{2}+x_{3}=1\n",
    "\\end{cases}$"
   ]
  },
  {
   "cell_type": "code",
   "execution_count": 1,
   "metadata": {},
   "outputs": [],
   "source": [
    "import numpy as np\n",
    "from scipy.linalg import det, lu_factor, lu_solve"
   ]
  },
  {
   "cell_type": "markdown",
   "metadata": {},
   "source": [
    "__Решение__\n",
    "\n",
    "а) $det(A) = 1\\cdot(-4) - (-2)\\cdot3 = 2$\n",
    "\n",
    "$det(A_{1}) = 1\\cdot(-4) - (-2)\\cdot7 = 10$\n",
    "\n",
    "$det(A_{2}) = 1\\cdot7 - 1\\cdot3 = 4$\n",
    "\n",
    "$x_{1} = \\frac{det(A_{1})}{det(A)} = \\frac{10}{2} = 5$\n",
    "\n",
    "$x_{2} = \\frac{det(A_{2})}{det(A)} = \\frac{4}{2} = 2$"
   ]
  },
  {
   "cell_type": "code",
   "execution_count": 2,
   "metadata": {},
   "outputs": [],
   "source": [
    "def SoLE_by_Kramer(A, b):\n",
    "    det_A = det(A)\n",
    "    n = A.shape[0]\n",
    "    x = np.array(np.zeros([n]))\n",
    "    \n",
    "    for i in range(n):\n",
    "        A_mod = A.copy().T\n",
    "        A_mod[i, :] = b\n",
    "        x[i] = det(A_mod.T) / det_A\n",
    "        \n",
    "    return x"
   ]
  },
  {
   "cell_type": "code",
   "execution_count": 3,
   "metadata": {},
   "outputs": [
    {
     "name": "stdout",
     "output_type": "stream",
     "text": [
      "Решение x: [5. 2.]\n",
      "проверка решения: True\n"
     ]
    }
   ],
   "source": [
    "A = np.array([[1, -2], [3, -4]])\n",
    "b = np.array([1, 7])\n",
    "x = SoLE_by_Kramer(A, b)\n",
    "print(f\"Решение x: {x}\")\n",
    "print(f\"проверка решения: {np.allclose(A @ x - b, np.zeros((A.shape[0],)))}\")"
   ]
  },
  {
   "cell_type": "code",
   "execution_count": 4,
   "metadata": {},
   "outputs": [
    {
     "name": "stdout",
     "output_type": "stream",
     "text": [
      "Решение с помощью scipy: [5. 2.]\n",
      "проверка решения: True\n"
     ]
    }
   ],
   "source": [
    "lu, piv = lu_factor(A)\n",
    "x = lu_solve((lu, piv), b)\n",
    "print(f\"Решение с помощью scipy: {x}\")\n",
    "print(f\"проверка решения: {np.allclose(A @ x - b, np.zeros((A.shape[0],)))}\")"
   ]
  },
  {
   "cell_type": "markdown",
   "metadata": {},
   "source": [
    "б)\n",
    "\n",
    "а) $det(A) = 2\\cdot(1\\cdot1 - (-3)\\cdot4) - (-1)\\cdot(1\\cdot1 - (-3)\\cdot2) + 5\\cdot(1\\cdot4 - 1\\cdot2) = 43$\n",
    "\n",
    "$det(A_{1}) = 10\\cdot(1\\cdot1 - (-3)\\cdot4) - (-1)\\cdot(-2\\cdot1 - (-3)\\cdot1) + 5\\cdot(-2\\cdot4 - 1\\cdot1) = 86$\n",
    "\n",
    "$det(A_{2}) = 2\\cdot(-2\\cdot1 - (-3)\\cdot1) - 10\\cdot(1\\cdot1 - (-3)\\cdot2) + 5\\cdot(1\\cdot1 - (-2)\\cdot2) = -43$\n",
    "\n",
    "$det(A_{3}) = 2\\cdot(1\\cdot1 - (-2)\\cdot4) - (-1)\\cdot(1\\cdot1 - (-2)\\cdot2) + 10\\cdot(1\\cdot4 - 1\\cdot2) = 43$\n",
    "\n",
    "$x_{1} = \\frac{det(A_{1})}{det(A)} = \\frac{86}{43} = 2$\n",
    "\n",
    "$x_{2} = \\frac{det(A_{2})}{det(A)} = \\frac{-43}{43} = -1$\n",
    "\n",
    "$x_{3} = \\frac{det(A_{3})}{det(A)} = \\frac{43}{43} = 1$"
   ]
  },
  {
   "cell_type": "code",
   "execution_count": 5,
   "metadata": {},
   "outputs": [
    {
     "name": "stdout",
     "output_type": "stream",
     "text": [
      "Решение x: [ 2. -1.  1.]\n",
      "проверка решения: True\n"
     ]
    }
   ],
   "source": [
    "A = np.array([[2, -1, 5], [1, 1, -3], [2, 4, 1]])\n",
    "b = np.array([10, -2, 1])\n",
    "x = SoLE_by_Kramer(A, b)\n",
    "print(f\"Решение x: {x}\")\n",
    "print(f\"проверка решения: {np.allclose(A @ x - b, np.zeros((A.shape[0],)))}\")"
   ]
  },
  {
   "cell_type": "code",
   "execution_count": 6,
   "metadata": {},
   "outputs": [
    {
     "name": "stdout",
     "output_type": "stream",
     "text": [
      "Решение с помощью scipy: [ 2. -1.  1.]\n",
      "проверка решения: True\n"
     ]
    }
   ],
   "source": [
    "lu, piv = lu_factor(A)\n",
    "x = lu_solve((lu, piv), b)\n",
    "print(f\"Решение с помощью scipy: {x}\")\n",
    "print(f\"проверка решения: {np.allclose(A @ x - b, np.zeros((A.shape[0],)))}\")"
   ]
  },
  {
   "cell_type": "markdown",
   "metadata": {},
   "source": [
    "__5*.__ Написать на Python программу с реализацией одного из изученных алгоритмов решения СЛАУ."
   ]
  },
  {
   "cell_type": "code",
   "execution_count": 7,
   "metadata": {},
   "outputs": [],
   "source": [
    "def get_LU(A):\n",
    "    LU = np.matrix(np.zeros([A.shape[0], A.shape[1]]))\n",
    "    N = A.shape[0]\n",
    "\n",
    "    for k in range(N):\n",
    "        for j in range(k, N):\n",
    "            LU[k, j] = A[k, j] - LU[k, :k] * LU[:k, j]\n",
    "            \n",
    "        for i in range(k + 1, N):\n",
    "            LU[i, k] = (A[i, k] - LU[i, : k] * LU[: k, k]) / LU[k, k]\n",
    "\n",
    "    return LU"
   ]
  },
  {
   "cell_type": "code",
   "execution_count": 8,
   "metadata": {},
   "outputs": [],
   "source": [
    "def get_L(LU):\n",
    "    L = LU.copy()\n",
    "    for i in range(L.shape[0]):\n",
    "            L[i, i] = 1\n",
    "            L[i, i + 1 :] = 0\n",
    "    return np.matrix(L)\n",
    "\n",
    "\n",
    "def get_U(LU):\n",
    "    U = LU.copy()\n",
    "    for i in range(1, U.shape[0]):\n",
    "        U[i, :i] = 0\n",
    "    return U"
   ]
  },
  {
   "cell_type": "code",
   "execution_count": 9,
   "metadata": {},
   "outputs": [],
   "source": [
    "def SoLE_by_LU(LU, b):\n",
    "    n = LU.shape[0]\n",
    "    y = np.matrix(np.zeros([n, 1]))\n",
    "    for i in range(n):\n",
    "        y[i, 0] = b[i, 0] - LU[i, :i] * y[:i]\n",
    "    \n",
    "    x = np.matrix(np.zeros([n, 1]))\n",
    "    for i in range(1, n + 1):\n",
    "        x[-i, 0] = (y[-i] - LU[-i, -i:] * x[-i:, 0] ) / LU[-i, -i]\n",
    "\n",
    "    return x"
   ]
  },
  {
   "cell_type": "markdown",
   "metadata": {},
   "source": [
    "__2*.__ Найти $L$-матрицу $LU$-разложения для матрицы коэффициентов:\n",
    "\n",
    "   а)$$\\begin{pmatrix}\n",
    "1 & 2 & 4 \\\\ \n",
    "2 & 9 & 12 \\\\ \n",
    "3 & 26 & 30\n",
    "\\end{pmatrix}$$\n",
    "    \n",
    "   б)$$\\begin{pmatrix}\n",
    "1 & 1 & 2 & 4\\\\ \n",
    "2 & 5 & 8 & 9\\\\ \n",
    "3 & 18 & 29 & 18\\\\\n",
    "4 & 22 & 53 & 33\n",
    "\\end{pmatrix}$$"
   ]
  },
  {
   "cell_type": "markdown",
   "metadata": {},
   "source": [
    "__Решение__\n",
    "\n",
    "а)"
   ]
  },
  {
   "cell_type": "code",
   "execution_count": 10,
   "metadata": {},
   "outputs": [
    {
     "name": "stdout",
     "output_type": "stream",
     "text": [
      "Матрица А:\n",
      "[[ 1  2  4]\n",
      " [ 2  9 12]\n",
      " [ 3 26 30]]\n",
      "Матрица LU:\n",
      "[[1. 2. 4.]\n",
      " [2. 5. 4.]\n",
      " [3. 4. 2.]]\n",
      "Матрица L:\n",
      "[[1. 0. 0.]\n",
      " [2. 1. 0.]\n",
      " [3. 4. 1.]]\n",
      "Матрица U:\n",
      "[[1. 2. 4.]\n",
      " [0. 5. 4.]\n",
      " [0. 0. 2.]]\n",
      "проверка LU-разложения: True\n",
      "LU с помощью scipy: \n"
     ]
    },
    {
     "data": {
      "text/plain": [
       "(array([[ 3.        , 26.        , 30.        ],\n",
       "        [ 0.66666667, -8.33333333, -8.        ],\n",
       "        [ 0.33333333,  0.8       ,  0.4       ]]),\n",
       " array([2, 1, 2], dtype=int32))"
      ]
     },
     "execution_count": 10,
     "metadata": {},
     "output_type": "execute_result"
    }
   ],
   "source": [
    "A = np.array([[1, 2, 4], [2, 9, 12], [3, 26, 30]])\n",
    "print(f\"Матрица А:\\n{A}\")\n",
    "LU = get_LU(A)\n",
    "print(f\"Матрица LU:\\n{LU}\")\n",
    "L = get_L(LU)\n",
    "U = get_U(LU)\n",
    "print(f\"Матрица L:\\n{L}\")\n",
    "print(f\"Матрица U:\\n{U}\")\n",
    "print(f\"проверка LU-разложения: {np.allclose(A - L @ U, np.zeros((A.shape[0],)))}\")\n",
    "print(\"LU с помощью scipy: \")\n",
    "lu_factor(A)"
   ]
  },
  {
   "cell_type": "markdown",
   "metadata": {},
   "source": [
    "б)"
   ]
  },
  {
   "cell_type": "code",
   "execution_count": 11,
   "metadata": {},
   "outputs": [
    {
     "name": "stdout",
     "output_type": "stream",
     "text": [
      "Матрица А:\n",
      "[[ 1  1  2  4]\n",
      " [ 2  5  8  9]\n",
      " [ 3 18 29 18]\n",
      " [ 4 22 53 33]]\n",
      "Матрица LU:\n",
      "[[1. 1. 2. 4.]\n",
      " [2. 3. 4. 1.]\n",
      " [3. 5. 3. 1.]\n",
      " [4. 6. 7. 4.]]\n",
      "Матрица L:\n",
      "[[1. 0. 0. 0.]\n",
      " [2. 1. 0. 0.]\n",
      " [3. 5. 1. 0.]\n",
      " [4. 6. 7. 1.]]\n",
      "Матрица U:\n",
      "[[1. 1. 2. 4.]\n",
      " [0. 3. 4. 1.]\n",
      " [0. 0. 3. 1.]\n",
      " [0. 0. 0. 4.]]\n",
      "проверка LU-разложения: True\n",
      "LU с помощью scipy: \n"
     ]
    },
    {
     "data": {
      "text/plain": [
       "(array([[  4.        ,  22.        ,  53.        ,  33.        ],\n",
       "        [  0.5       ,  -6.        , -18.5       ,  -7.5       ],\n",
       "        [  0.75      ,  -0.25      , -15.375     ,  -8.625     ],\n",
       "        [  0.25      ,   0.75      ,  -0.17073171,  -0.09756098]]),\n",
       " array([3, 1, 2, 3], dtype=int32))"
      ]
     },
     "execution_count": 11,
     "metadata": {},
     "output_type": "execute_result"
    }
   ],
   "source": [
    "A = np.array([[1, 1, 2, 4], [2, 5, 8, 9], [3, 18, 29, 18], [4, 22, 53, 33]])\n",
    "print(f\"Матрица А:\\n{A}\")\n",
    "LU = get_LU(A)\n",
    "print(f\"Матрица LU:\\n{LU}\")\n",
    "L = get_L(LU)\n",
    "U = get_U(LU)\n",
    "print(f\"Матрица L:\\n{L}\")\n",
    "print(f\"Матрица U:\\n{U}\")\n",
    "print(f\"проверка LU-разложения: {np.allclose(A - L @ U, np.zeros((A.shape[0],)))}\")\n",
    "print(\"LU с помощью scipy: \")\n",
    "lu_factor(A)"
   ]
  },
  {
   "cell_type": "markdown",
   "metadata": {},
   "source": [
    "__3*.__ Решить систему линейных уравнений методом $LU$-разложения\n",
    "\n",
    "$$\\begin{cases}\n",
    "2x_{1}+x_{2}+3x_{3}=1 \\\\\n",
    "11x_{1}+7x_{2}+5x_{3}=-6 \\\\\n",
    "9x_{1}+8x_{2}+4x_{3}=-5\n",
    "\\end{cases}$$"
   ]
  },
  {
   "cell_type": "code",
   "execution_count": 12,
   "metadata": {},
   "outputs": [
    {
     "name": "stdout",
     "output_type": "stream",
     "text": [
      "Матрица А:\n",
      "[[ 2  1  3]\n",
      " [11  7  5]\n",
      " [ 9  8  4]]\n",
      "Матрица LU:\n",
      "[[  2.           1.           3.        ]\n",
      " [  5.5          1.5        -11.5       ]\n",
      " [  4.5          2.33333333  17.33333333]]\n",
      "Матрица L:\n",
      "[[1.         0.         0.        ]\n",
      " [5.5        1.         0.        ]\n",
      " [4.5        2.33333333 1.        ]]\n",
      "Матрица U:\n",
      "[[  2.           1.           3.        ]\n",
      " [  0.           1.5        -11.5       ]\n",
      " [  0.           0.          17.33333333]]\n",
      "проверка LU-разложения: True\n",
      "Решение x = [[-1.]\n",
      " [ 0.]\n",
      " [ 1.]]\n",
      "проверка решения: True\n",
      "Решение с помощью scipy: [[-1.]\n",
      " [ 0.]\n",
      " [ 1.]]\n",
      "проверка решения: True\n"
     ]
    }
   ],
   "source": [
    "A = np.array([[2, 1, 3], [11, 7, 5], [9, 8, 4]])\n",
    "print(f\"Матрица А:\\n{A}\")\n",
    "LU = get_LU(A)\n",
    "print(f\"Матрица LU:\\n{LU}\")\n",
    "L = get_L(LU)\n",
    "U = get_U(LU)\n",
    "print(f\"Матрица L:\\n{L}\")\n",
    "print(f\"Матрица U:\\n{U}\")\n",
    "print(f\"проверка LU-разложения: {np.allclose(A - L @ U, np.zeros((A.shape[0],)))}\")\n",
    "\n",
    "b = np.array([[1], [-6], [-5]])\n",
    "x = SoLE_by_LU(LU, b)\n",
    "\n",
    "print(f\"Решение x = {x}\")\n",
    "print(f\"проверка решения: {np.allclose(A @ x - b, np.zeros((A.shape[0],)))}\")\n",
    "\n",
    "lu, piv = lu_factor(A)\n",
    "x = lu_solve((lu, piv), b)\n",
    "print(f\"Решение с помощью scipy: {x}\")\n",
    "print(f\"проверка решения: {np.allclose(A @ x - b, np.zeros((A.shape[0],)))}\")"
   ]
  },
  {
   "cell_type": "markdown",
   "metadata": {},
   "source": [
    "__4*.__ Решить систему линейных уравнений методом Холецкого\n",
    "\n",
    "$$\\begin{cases}\n",
    "81x_{1}-45x_{2}+45x_{3}=531 \\\\\n",
    "-45x_{1}+50x_{2}-15x_{3}=-460 \\\\\n",
    "45x_{1}-15x_{2}+38x_{3}=193\n",
    "\\end{cases}$$"
   ]
  },
  {
   "cell_type": "markdown",
   "metadata": {},
   "source": [
    "__Решение__\n",
    "\n",
    "Разложение на $LL^{T}$:\n",
    "\n",
    "$$l_{11} = \\sqrt{a_{11}} = \\sqrt{81} = 9,$$\n",
    "$$l_{21} = \\frac{a_{21}}{l_{11}} = \\frac{-45}{9} = -5,$$\n",
    "$$l_{31} = \\frac{a_{31}}{l_{11}}=\\frac{45}{9} = 5,$$\n",
    "\n",
    "$$l_{22}=\\sqrt{a_{22}-l_{21}^{2}} = \\sqrt{50 - 25} = 5,$$\n",
    "$$l_{32}=\\frac{1}{l_{22}}\\left ( a_{32}-l_{21}l_{31} \\right) = \\frac{1}{5}\\left ( -15 - (-5)\\cdot5 \\right ) = 2,$$\n",
    "\n",
    "$$l_{33}=\\sqrt{a_{33}-l_{31}^{2}-l_{32}^{2}} = \\sqrt{38 - 25 - 4} = 3.$$\n",
    "\n",
    "Получили матрицу \n",
    "\n",
    "$$L = \\begin{pmatrix}\n",
    "9 & 0 & 0 \\\\ \n",
    "-5 & 5 & 0 \\\\ \n",
    "5 & 2 & 3\n",
    "\\end{pmatrix}, \n",
    "\\; \\; \n",
    "L^{T} = \\begin{pmatrix}\n",
    "9 & -5 & 5 \\\\ \n",
    "0 & 5 & 2 \\\\ \n",
    "0 & 0 & 3\n",
    "\\end{pmatrix}.$$\n",
    "\n",
    "Решаем систему $Ly=b:$\n",
    "\n",
    "$$\\begin{cases}\n",
    "9y_{1} = 531, \\\\\n",
    "-5y_{1} + 5y_{2} = -460, \\\\\n",
    "5y_{1} + 2y_{2} + 3y_{3} = 193.\n",
    "\\end{cases}$$\n",
    "\n",
    "$$y_{1} = 59,$$\n",
    "\n",
    "$$y_{2} = \\frac{5\\cdot 59 - 460}{5} = -33,$$\n",
    "\n",
    "$$y_{3} = \\frac{193 - 5\\cdot59 - 2\\cdot(-33)}{3} = -12.$$\n",
    "\n",
    "И решаем систему $L^{T}x = y:$\n",
    "\n",
    "$$\\begin{cases}\n",
    "9x_{1} - 5x_{2} + 5x_{3} = 59, \\\\\n",
    "5x_{2} + 2x_{3} = -33, \\\\\n",
    "3x_{3} = -12.\n",
    "\\end{cases}$$\n",
    "\n",
    "$$x_{3} = -4,$$\n",
    "\n",
    "$$x_{2} = \\frac{-33 - 2\\cdot(-4)}{5} = -5,$$\n",
    "\n",
    "$$x_{1} = \\frac{59 + 5\\cdot(-5) - 5\\cdot(-4)}{9} = 6.$$\n",
    "\n",
    "Проверяем, подставляя полученные значения в исходную систему:\n",
    "\n",
    "$$\\begin{cases}\n",
    "81\\cdot6 - 45\\cdot(-5) + 45\\cdot(-4) = 531, \\\\\n",
    "-45\\cdot6 + 50\\cdot(-5) - 15\\cdot(-4) = -460, \\\\\n",
    "45\\cdot6 - 15\\cdot(-5) + 38\\cdot(-4) = 193.\n",
    "\\end{cases}$$"
   ]
  },
  {
   "cell_type": "code",
   "execution_count": 13,
   "metadata": {},
   "outputs": [],
   "source": [
    "from scipy.linalg import cholesky, solve_triangular"
   ]
  },
  {
   "cell_type": "code",
   "execution_count": 14,
   "metadata": {},
   "outputs": [
    {
     "name": "stdout",
     "output_type": "stream",
     "text": [
      "Матрица L: \n",
      "[[ 9.  0.  0.]\n",
      " [-5.  5.  0.]\n",
      " [ 5.  2.  3.]]\n",
      "Решение х: [ 6. -5. -4.]\n"
     ]
    }
   ],
   "source": [
    "A = np.array([[81, -45, 45], [-45, 50, -15], [45, -15, 38]])\n",
    "b = np.array([531, -460, 193])\n",
    "L = cholesky(A).T\n",
    "print(f\"Матрица L: \\n{L}\")\n",
    "y = solve_triangular(L, b, lower = True, check_finite = False)\n",
    "x = solve_triangular(L, y, lower = True, trans = 1, check_finite = False)\n",
    "print(f\"Решение х: {x}\")"
   ]
  },
  {
   "cell_type": "code",
   "execution_count": null,
   "metadata": {},
   "outputs": [],
   "source": []
  }
 ],
 "metadata": {
  "kernelspec": {
   "display_name": "Python 3",
   "language": "python",
   "name": "python3"
  },
  "language_info": {
   "codemirror_mode": {
    "name": "ipython",
    "version": 3
   },
   "file_extension": ".py",
   "mimetype": "text/x-python",
   "name": "python",
   "nbconvert_exporter": "python",
   "pygments_lexer": "ipython3",
   "version": "3.7.3"
  }
 },
 "nbformat": 4,
 "nbformat_minor": 2
}
