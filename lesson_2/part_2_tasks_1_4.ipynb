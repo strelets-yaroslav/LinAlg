{
 "cells": [
  {
   "cell_type": "markdown",
   "metadata": {},
   "source": [
    "__1.__ Вычислить определитель:\n",
    "\n",
    "   a)\n",
    "\n",
    "$$\\begin{vmatrix}\n",
    "sinx & -cosx\\\\ \n",
    "cosx & sinx\n",
    "\\end{vmatrix};$$\n",
    "\n",
    "   б)\n",
    "    \n",
    "$$\\begin{vmatrix}\n",
    "4 & 2 & 3\\\\ \n",
    "0 & 5 & 1\\\\ \n",
    "0 & 0 & 9\n",
    "\\end{vmatrix};$$\n",
    "    \n",
    "   в)\n",
    "\n",
    "$$\\begin{vmatrix}\n",
    "1 & 2 & 3\\\\ \n",
    "4 & 5 & 6\\\\ \n",
    "7 & 8 & 9\n",
    "\\end{vmatrix}.$$\n"
   ]
  },
  {
   "cell_type": "markdown",
   "metadata": {},
   "source": [
    "а) $det(A) = sin(x)\\cdot sin(x) - (-cos(x))\\cdot cos(x) = sin^{2}(x) + cos^{2}(x) = 1$\n",
    "\n",
    "б) т.к. матрица верхне-треугольная, то определитель равен произведению элементов главной диагонали: $det(A) = 4\\cdot5\\cdot9 = 180$\n",
    "\n",
    "в) $det(A) = \\begin{vmatrix}\n",
    "1 & 2 & 3\\\\ \n",
    "4 & 5 & 6\\\\ \n",
    "7 & 8 & 9\n",
    "\\end{vmatrix} = \n",
    "1\\begin{vmatrix}\n",
    "5 & 6\\\\  \n",
    "8 & 9 \\\\ \n",
    "\\end{vmatrix} - \n",
    "2\\begin{vmatrix}\n",
    "4 & 6\\\\  \n",
    "7 & 9 \\\\ \n",
    "\\end{vmatrix} + \n",
    "3\\begin{vmatrix}\n",
    "4 & 5\\\\  \n",
    "7 & 8 \\\\ \n",
    "\\end{vmatrix} = \n",
    "1\\cdot(5\\cdot9 - 6\\cdot8) - 2\\cdot(4\\cdot9 - 6\\cdot7) + 3\\cdot(4\\cdot8 - 5\\cdot7) = -3 + 12 - 9 = 0$"
   ]
  },
  {
   "cell_type": "code",
   "execution_count": 1,
   "metadata": {},
   "outputs": [],
   "source": [
    "import numpy as np\n",
    "import scipy.linalg as la"
   ]
  },
  {
   "cell_type": "code",
   "execution_count": 2,
   "metadata": {},
   "outputs": [
    {
     "name": "stdout",
     "output_type": "stream",
     "text": [
      "Определитель:\n",
      "1\n"
     ]
    }
   ],
   "source": [
    "x = np.pi/6\n",
    "a = np.array([[np.sin(x), -np.cos(x)], [np.cos(x), np.sin(x)]])\n",
    "print(f'Определитель:\\n{la.det(a):.0f}')"
   ]
  },
  {
   "cell_type": "code",
   "execution_count": 3,
   "metadata": {},
   "outputs": [
    {
     "name": "stdout",
     "output_type": "stream",
     "text": [
      "Определитель:\n",
      "180\n"
     ]
    }
   ],
   "source": [
    "b = np.array([[4, 2, 3], [0, 5, 1], [0, 0, 9]])\n",
    "print(f'Определитель:\\n{la.det(b):.0f}')"
   ]
  },
  {
   "cell_type": "code",
   "execution_count": 4,
   "metadata": {},
   "outputs": [
    {
     "name": "stdout",
     "output_type": "stream",
     "text": [
      "Определитель:\n",
      "0\n"
     ]
    }
   ],
   "source": [
    "c = np.array([[1, 2, 3], [4, 5, 6], [7, 8, 9]])\n",
    "print(f'Определитель:\\n{la.det(c):.0f}')"
   ]
  },
  {
   "cell_type": "markdown",
   "metadata": {},
   "source": [
    "__2.__ Определитель матрицы $A$ равен $4$. Найти:\n",
    "\n",
    "   а) $det(A^{2})$;\n",
    "    \n",
    "   б) $det(A^{T})$;\n",
    "    \n",
    "   в) $det(2A)$.\n",
    "   "
   ]
  },
  {
   "cell_type": "markdown",
   "metadata": {},
   "source": [
    "а) $det(A^{2}) = det(A\\cdot A) = det(A)\\cdot det(A) = det(A)^{2} = 4^{2} = 16$\n",
    "\n",
    "б) определитель транспонированной матрицы равен определителю исходной, т.е. 4\n",
    "\n",
    "в) $det(2\\cdot A) = 2^{n}\\cdot4$, где n - размер матрицы (nxn): множитель 2 применяется к каждой строке, т.е. определитель n раз умножается на 2."
   ]
  },
  {
   "cell_type": "markdown",
   "metadata": {},
   "source": [
    "__3.__  Доказать, что матрица\n",
    "\n",
    "$$\\begin{pmatrix}\n",
    "-2 & 7 & -3\\\\ \n",
    "4 & -14 & 6\\\\ \n",
    "-3 & 7 & 13\n",
    "\\end{pmatrix}$$\n",
    "   \n",
    "вырожденная.\n"
   ]
  },
  {
   "cell_type": "markdown",
   "metadata": {},
   "source": [
    "Вторую строку данной матрицы можно выразить через первую строку, если домножить её на -2, т.е. эти строки линейно зависимы, следовательно, определитель данной матрицы будет равен 0, что говорит о том, что матрица является вырожденной."
   ]
  },
  {
   "cell_type": "code",
   "execution_count": 5,
   "metadata": {},
   "outputs": [
    {
     "name": "stdout",
     "output_type": "stream",
     "text": [
      "Определитель:\n",
      "0\n"
     ]
    }
   ],
   "source": [
    "d = np.array([[-2, 7, -3], [4, -14, 6], [-3, 7, 13]])\n",
    "print(f'Определитель:\\n{la.det(d):.0f}')"
   ]
  },
  {
   "cell_type": "markdown",
   "metadata": {},
   "source": [
    "__4.__ Найти ранг матрицы:\n",
    "\n",
    "   а) $\\begin{pmatrix}\n",
    "1 & 2 & 3\\\\ \n",
    "1 & 1 & 1\\\\ \n",
    "2 & 3 & 4\n",
    "\\end{pmatrix};$\n",
    "\n",
    "   б) $\\begin{pmatrix}\n",
    "0 & 0 & 2 & 1\\\\ \n",
    "0 & 0 & 2 & 2\\\\ \n",
    "0 & 0 & 4 & 3\\\\ \n",
    "2 & 3 & 5 & 6\n",
    "\\end{pmatrix}.$"
   ]
  },
  {
   "cell_type": "markdown",
   "metadata": {},
   "source": [
    "а) вычтем из второй и третьей строк первую, домноженную на 1 и 2 соответственно:\n",
    "$$\\begin{pmatrix}\n",
    "1 & 2 & 3\\\\ \n",
    "0 & -1 & -2\\\\ \n",
    "0 & -1 & -2\n",
    "\\end{pmatrix}$$\n",
    "\n",
    "третью строку можно удалить, т.к. она равна второй:\n",
    "$$\\begin{pmatrix}\n",
    "1 & 2 & 3\\\\ \n",
    "0 & -1 & -2\n",
    "\\end{pmatrix}$$\n",
    "\n",
    "следовательно, ранг матрицы равен 2."
   ]
  },
  {
   "cell_type": "code",
   "execution_count": 8,
   "metadata": {},
   "outputs": [
    {
     "data": {
      "text/plain": [
       "2"
      ]
     },
     "execution_count": 8,
     "metadata": {},
     "output_type": "execute_result"
    }
   ],
   "source": [
    "e = np.array([[1, 2, 3], [1, 1, 1], [2, 3, 4]])\n",
    "np.linalg.matrix_rank(e)"
   ]
  },
  {
   "cell_type": "markdown",
   "metadata": {},
   "source": [
    " б) переместим последнюю строку на верх (последовательная перестановка), а второй столбец удаляем, т.к. он получается из первого домножением на $\\frac{3}{2}$:\n",
    "$$\\begin{pmatrix}\n",
    "2 & 5 & 6\\\\\n",
    "0 & 2 & 1\\\\ \n",
    "0 & 2 & 2\\\\ \n",
    "0 & 4 & 3 \n",
    "\\end{pmatrix}$$\n",
    "\n",
    "вычтем из третьей и четвёртой строк вторую, домноженную на 1 и 2 соотвественно:\n",
    "$$\\begin{pmatrix}\n",
    "2 & 5 & 6\\\\\n",
    "0 & 2 & 1\\\\ \n",
    "0 & 0 & 1\\\\ \n",
    "0 & 0 & 1 \n",
    "\\end{pmatrix}$$\n",
    "\n",
    "четвёртую строку можно удалить, т.к. она равна третьей:\n",
    "$$\\begin{pmatrix}\n",
    "2 & 5 & 6\\\\\n",
    "0 & 2 & 1\\\\ \n",
    "0 & 0 & 1\n",
    "\\end{pmatrix}$$\n",
    "\n",
    "следовательно, ранг матрицы равен 3"
   ]
  },
  {
   "cell_type": "code",
   "execution_count": 9,
   "metadata": {},
   "outputs": [
    {
     "data": {
      "text/plain": [
       "3"
      ]
     },
     "execution_count": 9,
     "metadata": {},
     "output_type": "execute_result"
    }
   ],
   "source": [
    "f = np.array([[0, 0, 2, 1], [0, 0, 2, 2], [0, 0, 4, 3], [2, 3, 5, 6]])\n",
    "np.linalg.matrix_rank(f)"
   ]
  },
  {
   "cell_type": "code",
   "execution_count": null,
   "metadata": {},
   "outputs": [],
   "source": []
  }
 ],
 "metadata": {
  "kernelspec": {
   "display_name": "Python 3",
   "language": "python",
   "name": "python3"
  },
  "language_info": {
   "codemirror_mode": {
    "name": "ipython",
    "version": 3
   },
   "file_extension": ".py",
   "mimetype": "text/x-python",
   "name": "python",
   "nbconvert_exporter": "python",
   "pygments_lexer": "ipython3",
   "version": "3.7.3"
  }
 },
 "nbformat": 4,
 "nbformat_minor": 2
}
