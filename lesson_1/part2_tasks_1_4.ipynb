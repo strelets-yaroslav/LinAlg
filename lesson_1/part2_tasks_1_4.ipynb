{
 "cells": [
  {
   "cell_type": "markdown",
   "metadata": {},
   "source": [
    "__1.__ Найти скалярное произведение векторов $x, y \\in \\mathbb{R}$:<br>\n",
    "а) $x=(0,-3, 6),~y=(-4, 7, 9);$<br>\n",
    "б) $x=(7, -4, 0, 1),~y=(-3, 1, 11, 2).$\n"
   ]
  },
  {
   "cell_type": "markdown",
   "metadata": {},
   "source": [
    "a) $(x,y) = 0\\cdot(-4) + (-3)\\cdot7 + 6\\cdot9 = -21 + 54 = 33$\n",
    "\n",
    "б) $(x,y) = 7\\cdot(-3) + (-4)\\cdot1 + 0\\cdot11 + 1\\cdot2 = -21 - 4 + 2 = -23$"
   ]
  },
  {
   "cell_type": "code",
   "execution_count": 4,
   "metadata": {},
   "outputs": [],
   "source": [
    "import numpy as np\n",
    "from numpy.linalg import norm"
   ]
  },
  {
   "cell_type": "code",
   "execution_count": 7,
   "metadata": {},
   "outputs": [],
   "source": [
    "x1 = np.array([0, -3, 6])\n",
    "y1 = np.array([-4, 7, 9])"
   ]
  },
  {
   "cell_type": "code",
   "execution_count": 8,
   "metadata": {},
   "outputs": [
    {
     "data": {
      "text/plain": [
       "33"
      ]
     },
     "execution_count": 8,
     "metadata": {},
     "output_type": "execute_result"
    }
   ],
   "source": [
    "x1 @ y1"
   ]
  },
  {
   "cell_type": "code",
   "execution_count": 9,
   "metadata": {},
   "outputs": [],
   "source": [
    "x2 = np.array([7, -4, 0, 1])\n",
    "y2 = np.array([-3, 1, 11, 2])"
   ]
  },
  {
   "cell_type": "code",
   "execution_count": 10,
   "metadata": {},
   "outputs": [
    {
     "data": {
      "text/plain": [
       "-23"
      ]
     },
     "execution_count": 10,
     "metadata": {},
     "output_type": "execute_result"
    }
   ],
   "source": [
    "x2 @ y2"
   ]
  },
  {
   "cell_type": "markdown",
   "metadata": {},
   "source": [
    "__2.__ Найти нормы векторов $(4, 2, 4)$ и $(12, 3, 4)$ и угол между ними.\n"
   ]
  },
  {
   "cell_type": "markdown",
   "metadata": {},
   "source": [
    "1. Манхэттенские нормы: $\\left\\|a\\right\\|_{1} = |4|+|2|+|4|=10$, $\\left\\|b\\right\\|_{1} = |12|+|3|+|4|=19$.\n",
    "2. Евклидовы нормы: $\\left\\|a\\right\\|_{2} = \\sqrt{4^{2}+2^{2}+4^{2}}=\\sqrt{36}=6$, $\\left\\|a\\right\\|_{2} = \\sqrt{12^{2}+3^{2}+4^{2}}=\\sqrt{169}=13$.\n",
    "3. Угол между векторами: $cos\\varphi = \\frac{4\\cdot12+2\\cdot3+4\\cdot64}{\\sqrt{4^{2}+2^{2}+4^{2}}\\sqrt{12^{2}+3^{2}+4^{2}}}=\\frac{70}{6\\cdot13}=\\frac{70}{78}\\approx 0.897$"
   ]
  },
  {
   "cell_type": "code",
   "execution_count": 11,
   "metadata": {},
   "outputs": [],
   "source": [
    "a = np.array([4, 2, 4])\n",
    "b = np.array([12, 3, 4])"
   ]
  },
  {
   "cell_type": "code",
   "execution_count": 12,
   "metadata": {},
   "outputs": [
    {
     "name": "stdout",
     "output_type": "stream",
     "text": [
      "Манхэттенские нормы векторов a: 10.0, b: 19.0\n"
     ]
    }
   ],
   "source": [
    "print(f'Манхэттенские нормы векторов a: {norm(a, ord=1)}, b: {norm(b, ord=1)}')"
   ]
  },
  {
   "cell_type": "code",
   "execution_count": 14,
   "metadata": {},
   "outputs": [
    {
     "name": "stdout",
     "output_type": "stream",
     "text": [
      "Евклидовы нормы векторов a: 6.0, b: 13.0\n"
     ]
    }
   ],
   "source": [
    "norm_a = norm(a)\n",
    "norm_b = norm(b)\n",
    "\n",
    "print(f'Евклидовы нормы векторов a: {norm_a}, b: {norm_b}')"
   ]
  },
  {
   "cell_type": "code",
   "execution_count": 15,
   "metadata": {},
   "outputs": [
    {
     "name": "stdout",
     "output_type": "stream",
     "text": [
      "Угол между векторами a и b: 0.8974358974358975\n"
     ]
    }
   ],
   "source": [
    "print(f'Угол между векторами a и b: {(a @ b) / (norm_a * norm_b)}')"
   ]
  },
  {
   "cell_type": "markdown",
   "metadata": {},
   "source": [
    "__3.__ Будет ли линейное пространство евклидовым, если за скалярное произведение принять:<br>\n",
    "а) произведение длин векторов;<br>\n",
    "б) утроенное обычное скалярное произведение векторов?<br>\n",
    "      "
   ]
  },
  {
   "cell_type": "markdown",
   "metadata": {},
   "source": [
    "а) для данного вида скалярного произведения не будет выполняться 3 аксиома: $(x_{1}+x_{2},y)=(x_{1},y)+(x_{2},y);$.\n",
    "В левой части выражения получаем: $\\left\\|x_{1} + x_{2}\\right\\|\\cdot\\left\\|y\\right\\|$, а в правой: $\\left\\|x_{1}\\right\\|\\cdot\\left\\|y\\right\\| + \\left\\|x_{2}\\right\\|\\cdot\\left\\|y\\right\\| = (\\left\\|x_{1}\\right\\| + \\left\\|x_{2}\\right\\|)\\cdot\\left\\|y\\right\\|$.\n",
    "Длина суммы двух векторов в общем случае не равна сумме длин векторов. Это равенство верно только в том случае, если вектора коллинеарны и направлены в одну сторону."
   ]
  },
  {
   "cell_type": "markdown",
   "metadata": {},
   "source": [
    "б) данный вид скалярного произведения будет удовлетворять всем условиям евклидова пространства, т.к. множитель \"3\" не влияет на выполнение аксиом (выносится во всех случаях, а обычное скалярное произведение уже удовлетворяет условиям)."
   ]
  },
  {
   "cell_type": "markdown",
   "metadata": {},
   "source": [
    "__4.__ Какие из нижеперечисленных векторов образуют ортонормированный базис в линейном пространстве $\\mathbb{R}^{3}$:<br>\n",
    "а) $(1,0,0),(0,0,1);$ <br>\n",
    "б) $(1/\\sqrt{2},-1/\\sqrt{2},0),(1/\\sqrt{2},1/\\sqrt{2},0), (0,0,1);$<br>\n",
    "в) $(1/2, -1/2, 0), (0, 1/2, 1/2), (0,0,1);$<br>\n",
    "г) $(1,0,0),(0,1,0),(0,0,1)?$ \n"
   ]
  },
  {
   "cell_type": "markdown",
   "metadata": {},
   "source": [
    "Для ортонормированного базиса должно выполняться условие $(e_{i}, e_{j})=0$ $\\forall$ $i\\neq j$ и $(e_{i},e_{i})=1$ $\\forall$ $i\\in[1, n].$"
   ]
  },
  {
   "cell_type": "code",
   "execution_count": 75,
   "metadata": {},
   "outputs": [],
   "source": [
    "def check_ortonorm(basis):\n",
    "    n = basis.shape[0]\n",
    "    return np.array([[round(basis[i] @ basis[j], 6) for j in range(n)] for i in range(n)])"
   ]
  },
  {
   "cell_type": "markdown",
   "metadata": {},
   "source": [
    "a) нет - в базисе должно быть 3 вектора, т.к. пространство $\\mathbb{R}^{3}$."
   ]
  },
  {
   "cell_type": "code",
   "execution_count": 80,
   "metadata": {},
   "outputs": [
    {
     "data": {
      "text/plain": [
       "array([[1., 0., 0.],\n",
       "       [0., 1., 0.],\n",
       "       [0., 0., 1.]])"
      ]
     },
     "execution_count": 80,
     "metadata": {},
     "output_type": "execute_result"
    }
   ],
   "source": [
    "x1 = np.array([1/np.sqrt(2),-1/np.sqrt(2),0])\n",
    "x2 = np.array([1/np.sqrt(2),1/np.sqrt(2),0])\n",
    "x3 = np.array([0,0,1])\n",
    "check_ortonorm(np.vstack((x1, x2, x3)))"
   ]
  },
  {
   "cell_type": "markdown",
   "metadata": {},
   "source": [
    "б) да: вектора имеют единичную длину и попарно ортогональны."
   ]
  },
  {
   "cell_type": "code",
   "execution_count": 77,
   "metadata": {},
   "outputs": [
    {
     "data": {
      "text/plain": [
       "array([[ 0.5 , -0.25,  0.  ],\n",
       "       [-0.25,  0.5 ,  0.5 ],\n",
       "       [ 0.  ,  0.5 ,  1.  ]])"
      ]
     },
     "execution_count": 77,
     "metadata": {},
     "output_type": "execute_result"
    }
   ],
   "source": [
    "x1 = np.array([1/2,-1/2,0])\n",
    "x2 = np.array([0,1/2,1/2])\n",
    "x3 = np.array([0,0,1])\n",
    "check_ortonorm(np.vstack((x1, x2, x3)))"
   ]
  },
  {
   "cell_type": "markdown",
   "metadata": {},
   "source": [
    "в) нет."
   ]
  },
  {
   "cell_type": "code",
   "execution_count": 78,
   "metadata": {},
   "outputs": [
    {
     "data": {
      "text/plain": [
       "array([[1, 0, 0],\n",
       "       [0, 1, 0],\n",
       "       [0, 0, 1]])"
      ]
     },
     "execution_count": 78,
     "metadata": {},
     "output_type": "execute_result"
    }
   ],
   "source": [
    "x1 = np.array([1,0,0])\n",
    "x2 = np.array([0,1,0])\n",
    "x3 = np.array([0,0,1])\n",
    "check_ortonorm(np.vstack((x1, x2, x3)))"
   ]
  },
  {
   "cell_type": "markdown",
   "metadata": {},
   "source": [
    "г) да: вектора имеют единичную длину и попарно ортогональны."
   ]
  },
  {
   "cell_type": "code",
   "execution_count": null,
   "metadata": {},
   "outputs": [],
   "source": []
  }
 ],
 "metadata": {
  "kernelspec": {
   "display_name": "Python 3",
   "language": "python",
   "name": "python3"
  },
  "language_info": {
   "codemirror_mode": {
    "name": "ipython",
    "version": 3
   },
   "file_extension": ".py",
   "mimetype": "text/x-python",
   "name": "python",
   "nbconvert_exporter": "python",
   "pygments_lexer": "ipython3",
   "version": "3.7.3"
  }
 },
 "nbformat": 4,
 "nbformat_minor": 2
}
